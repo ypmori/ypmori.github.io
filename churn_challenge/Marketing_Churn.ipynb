{
 "cells": [
  {
   "cell_type": "markdown",
   "metadata": {},
   "source": [
    "# Churn Model for Digital Marketing Clients\n",
    "\n",
    "##### Author: Yuji Mori\n",
    "##### Date: 05/18/2021"
   ]
  },
  {
   "cell_type": "markdown",
   "metadata": {},
   "source": [
    "## Introduction\n",
    "\n",
    "This predictive modeling challenge was completed for a marketing agency with a portfolio of various clients in the media space. The agency runs marketing campaigns on behalf of the clients, with varying degress of success. The objective is to create a model that predicts churn, given 9 predictor variables. **This code notebook is an exhibition of the work I performed for the agency, and all identifiable information and data has been removed**.\n",
    "\n",
    "\n",
    "## Data\n",
    "\n",
    "The data is in tabular (.csv) format with exactly 10,000 rows, each row representing a unique client. The data includes key metrics relating to the performance of the client campaign(s), such as client CPL (cost-per-lead), calls/clicks received, and their overall budget. There is also demographic information such as the client’s industry and age (months) in the portfolio. Finally, there is a flag column indicating whether the client has churned or not.\n",
    "\n",
    "Looking at the variables, we can intuitively expect:\n",
    "- higher engagement numbers (clicks, calls, etc.)\n",
    "- negative CPL (i.e. cost is going down over time)\n",
    "- longer duration in portfolio\n",
    "\n",
    "to be indicative of successful marketing campaigns, and therefore smaller likelihood of churn. During model development, we will keep these expectations in mind.\n"
   ]
  },
  {
   "cell_type": "markdown",
   "metadata": {},
   "source": [
    "## Model Development\n",
    "### Step 1. Data Import and Pre-Processing"
   ]
  },
  {
   "cell_type": "code",
   "execution_count": 185,
   "metadata": {},
   "outputs": [],
   "source": [
    "import os\n",
    "import numpy as np\n",
    "import pandas as pd\n",
    "\n",
    "from sklearn.model_selection import train_test_split\n",
    "\n",
    "from sklearn.linear_model import LogisticRegression\n",
    "from sklearn.ensemble import RandomForestClassifier\n",
    "from sklearn.ensemble import GradientBoostingClassifier\n",
    "\n",
    "from sklearn.metrics import f1_score, roc_auc_score, accuracy_score, confusion_matrix"
   ]
  },
  {
   "cell_type": "code",
   "execution_count": 19,
   "metadata": {},
   "outputs": [],
   "source": [
    "df = pd.read_csv('assets/data.csv', header = None)\n",
    "colnames = ['CPL_wrt_BC','client_state',\n",
    "           'duration','num_products','calls',\n",
    "           'CPL_wrt_self','churn','avg_budget',\n",
    "           'BC','clicks']\n",
    "df.columns = colnames"
   ]
  },
  {
   "cell_type": "code",
   "execution_count": 15,
   "metadata": {},
   "outputs": [
    {
     "data": {
      "text/plain": [
       "(10000, 10)"
      ]
     },
     "execution_count": 15,
     "metadata": {},
     "output_type": "execute_result"
    }
   ],
   "source": [
    "df.shape"
   ]
  },
  {
   "cell_type": "markdown",
   "metadata": {},
   "source": [
    "#### Checking for Duplicate Entries\n",
    "Below is a simple way to check whether there are any duplicate rows in the dataset. Usually we would opt to use some sort of identifying column (i.e. unique client ID)"
   ]
  },
  {
   "cell_type": "code",
   "execution_count": 170,
   "metadata": {},
   "outputs": [
    {
     "data": {
      "text/plain": [
       "True"
      ]
     },
     "execution_count": 170,
     "metadata": {},
     "output_type": "execute_result"
    }
   ],
   "source": [
    "df[df.duplicated()].empty"
   ]
  },
  {
   "cell_type": "markdown",
   "metadata": {},
   "source": [
    "#### Missing Value Imputation\n",
    "\n",
    "Models in Sklearn generally do not handle missing values, so it is advised to impute:"
   ]
  },
  {
   "cell_type": "code",
   "execution_count": 22,
   "metadata": {},
   "outputs": [
    {
     "data": {
      "text/plain": [
       "CPL_wrt_BC         0\n",
       "client_state       0\n",
       "duration           0\n",
       "num_products       0\n",
       "calls              0\n",
       "CPL_wrt_self    1092\n",
       "churn              0\n",
       "avg_budget         0\n",
       "BC                 0\n",
       "clicks             0\n",
       "dtype: int64"
      ]
     },
     "execution_count": 22,
     "metadata": {},
     "output_type": "execute_result"
    }
   ],
   "source": [
    "# Check each column for NaN values:\n",
    "df.isna().sum()"
   ]
  },
  {
   "cell_type": "code",
   "execution_count": 35,
   "metadata": {},
   "outputs": [],
   "source": [
    "# for now, just filling with 0:\n",
    "df.CPL_wrt_self = df.CPL_wrt_self.fillna(0)"
   ]
  },
  {
   "cell_type": "markdown",
   "metadata": {},
   "source": [
    "-------"
   ]
  },
  {
   "cell_type": "markdown",
   "metadata": {},
   "source": [
    "### Step 2: Exploratory Analysis"
   ]
  },
  {
   "cell_type": "markdown",
   "metadata": {},
   "source": [
    "#### The Response Variable:"
   ]
  },
  {
   "cell_type": "code",
   "execution_count": 48,
   "metadata": {},
   "outputs": [
    {
     "data": {
      "text/plain": [
       "0    8000\n",
       "1    2000\n",
       "Name: churn, dtype: int64"
      ]
     },
     "execution_count": 48,
     "metadata": {},
     "output_type": "execute_result"
    }
   ],
   "source": [
    "df['churn'].value_counts()"
   ]
  },
  {
   "cell_type": "markdown",
   "metadata": {},
   "source": [
    "One of the most important variables to check is our response variable, `churn`. Our Portfolio has a **20% churn rate**."
   ]
  },
  {
   "cell_type": "markdown",
   "metadata": {},
   "source": [
    "------"
   ]
  },
  {
   "cell_type": "markdown",
   "metadata": {},
   "source": [
    "#### Numeric Variables of Interest:"
   ]
  },
  {
   "cell_type": "code",
   "execution_count": 34,
   "metadata": {},
   "outputs": [
    {
     "data": {
      "text/plain": [
       "array([[<AxesSubplot:title={'center':'duration'}>]], dtype=object)"
      ]
     },
     "execution_count": 34,
     "metadata": {},
     "output_type": "execute_result"
    },
    {
     "data": {
      "image/png": "[encoded data removed]",
      "text/plain": [
       "<Figure size 432x288 with 1 Axes>"
      ]
     },
     "metadata": {
      "needs_background": "light"
     },
     "output_type": "display_data"
    }
   ],
   "source": [
    "pd.DataFrame.hist(df, 'duration')"
   ]
  },
  {
   "cell_type": "markdown",
   "metadata": {},
   "source": [
    "In a real business context, it could be useful to separate portfolio based on months duration, i.e. we can create separate categories/levels for 'new' accounts and 'old/aged' accounts. \n",
    "\n",
    "For example, we might be interested in a model that performs really well on new accounts specifically."
   ]
  },
  {
   "cell_type": "code",
   "execution_count": 47,
   "metadata": {},
   "outputs": [
    {
     "data": {
      "text/plain": [
       "array([[<AxesSubplot:title={'center':'num_products'}>]], dtype=object)"
      ]
     },
     "execution_count": 47,
     "metadata": {},
     "output_type": "execute_result"
    },
    {
     "data": {
      "image/png": "[encoded data removed]",
      "text/plain": [
       "<Figure size 432x288 with 1 Axes>"
      ]
     },
     "metadata": {
      "needs_background": "light"
     },
     "output_type": "display_data"
    }
   ],
   "source": [
    "pd.DataFrame.hist(df, 'num_products')"
   ]
  },
  {
   "cell_type": "markdown",
   "metadata": {},
   "source": [
    "A similar strategy could be applied to the number of products, but the data we have is mostly represented by clients with only 1 product."
   ]
  },
  {
   "cell_type": "code",
   "execution_count": 65,
   "metadata": {},
   "outputs": [
    {
     "data": {
      "text/plain": [
       "array([[<AxesSubplot:title={'center':'avg_budget'}>]], dtype=object)"
      ]
     },
     "execution_count": 65,
     "metadata": {},
     "output_type": "execute_result"
    },
    {
     "data": {
      "image/png": "[encoded data removed]",
      "text/plain": [
       "<Figure size 432x288 with 1 Axes>"
      ]
     },
     "metadata": {
      "needs_background": "light"
     },
     "output_type": "display_data"
    }
   ],
   "source": [
    "pd.DataFrame.hist(df,'avg_budget')"
   ]
  },
  {
   "cell_type": "code",
   "execution_count": 64,
   "metadata": {},
   "outputs": [
    {
     "data": {
      "text/plain": [
       "array([[<AxesSubplot:title={'center':'avg_budget'}>]], dtype=object)"
      ]
     },
     "execution_count": 64,
     "metadata": {},
     "output_type": "execute_result"
    },
    {
     "data": {
      "image/png": "[encoded data removed]",
      "text/plain": [
       "<Figure size 432x288 with 1 Axes>"
      ]
     },
     "metadata": {
      "needs_background": "light"
     },
     "output_type": "display_data"
    }
   ],
   "source": [
    "pd.DataFrame.hist(df[df['avg_budget']<=14000], 'avg_budget')"
   ]
  },
  {
   "cell_type": "code",
   "execution_count": null,
   "metadata": {},
   "outputs": [],
   "source": [
    "# some accounts with noticeably high budgets:\n",
    "df[df['avg_budget']>25000].sort_values(by='avg_budget',ascending=False).head()"
   ]
  },
  {
   "cell_type": "markdown",
   "metadata": {},
   "source": [
    "The fact our highest-budget account has churned requires special attention, as it might have an impact on our model.  With that said, I have decided not remove any of these data points or treat them as outliers.\n",
    "\n",
    "As mentioned earlier, it may be useful to split the portfolio by the overall budget of each client (for example: >= $100,000 as LARGE, <= 10,000 as SMALL, else MEDIUM) and determine how well the model performs for each segment.\n",
    "\n"
   ]
  },
  {
   "cell_type": "markdown",
   "metadata": {},
   "source": [
    "#### Correlation Plot of Numeric Variables"
   ]
  },
  {
   "cell_type": "code",
   "execution_count": 176,
   "metadata": {},
   "outputs": [
    {
     "data": {
      "text/plain": [
       "<AxesSubplot:>"
      ]
     },
     "execution_count": 176,
     "metadata": {},
     "output_type": "execute_result"
    },
    {
     "data": {
      "image/png": "[encoded data removed]",
      "text/plain": [
       "<Figure size 792x648 with 2 Axes>"
      ]
     },
     "metadata": {
      "needs_background": "light"
     },
     "output_type": "display_data"
    }
   ],
   "source": [
    "import seaborn as sns\n",
    "import matplotlib.pyplot as plt\n",
    "\n",
    "corr = df[['avg_budget','num_products','CPL_wrt_BC','CPL_wrt_self','clicks','calls']].corr()\n",
    "mask = np.triu(np.ones_like(corr, dtype=bool))\n",
    "f, ax = plt.subplots(figsize=(11, 9))\n",
    "cmap = sns.diverging_palette(230, 20, as_cmap=True)\n",
    "sns.heatmap(corr, mask=mask, cmap=cmap, vmax=.3, center=0,\n",
    "            square=True, linewidths=.5, cbar_kws={\"shrink\": .5})"
   ]
  },
  {
   "cell_type": "markdown",
   "metadata": {},
   "source": [
    "Looking at the correlation, there doesn't seem to be any strong relationships between the numeric variables, with the exception of `avg_budget` and `num_products`."
   ]
  },
  {
   "cell_type": "markdown",
   "metadata": {},
   "source": [
    "-----\n",
    "\n",
    "#### Categorical Variables of Interest:"
   ]
  },
  {
   "cell_type": "code",
   "execution_count": 45,
   "metadata": {},
   "outputs": [
    {
     "data": {
      "text/plain": [
       "51"
      ]
     },
     "execution_count": 45,
     "metadata": {},
     "output_type": "execute_result"
    }
   ],
   "source": [
    "# Making sure all states are represented in the dataset:\n",
    "df['client_state'].nunique()"
   ]
  },
  {
   "cell_type": "code",
   "execution_count": null,
   "metadata": {
    "jupyter": {
     "outputs_hidden": true
    }
   },
   "outputs": [],
   "source": [
    "# checking frequency distribution:\n",
    "df['client_state'].value_counts()"
   ]
  },
  {
   "cell_type": "markdown",
   "metadata": {},
   "source": [
    "we see that all states are represented, though naturally the largers states (CA, FL, NY, etc.) have higher frequencies.\n",
    "\n",
    "Next we take a look at the Business Categories:"
   ]
  },
  {
   "cell_type": "code",
   "execution_count": 53,
   "metadata": {},
   "outputs": [
    {
     "data": {
      "text/plain": [
       "31"
      ]
     },
     "execution_count": 53,
     "metadata": {},
     "output_type": "execute_result"
    }
   ],
   "source": [
    "df['BC'].nunique()"
   ]
  },
  {
   "cell_type": "code",
   "execution_count": null,
   "metadata": {},
   "outputs": [],
   "source": [
    "df['BC'].value_counts()"
   ]
  },
  {
   "cell_type": "markdown",
   "metadata": {},
   "source": [
    "Interestingly, the portfolio is predominantly made up of `Home & Home Improvement` clients, accounting for over 26% of the data. The resulting model might have a difficult time predicting inputs with uncommon business categories."
   ]
  },
  {
   "cell_type": "markdown",
   "metadata": {},
   "source": [
    "#### Dummy Encoding of Categorical Variables\n",
    "\n",
    "Finally, before we proceed to model training, it is necessary to one-hot (dummy) encode our categorical variables (`client_state` and `BC`):"
   ]
  },
  {
   "cell_type": "code",
   "execution_count": 36,
   "metadata": {},
   "outputs": [],
   "source": [
    "df_dummy = pd.get_dummies(df)"
   ]
  },
  {
   "cell_type": "code",
   "execution_count": 38,
   "metadata": {},
   "outputs": [
    {
     "data": {
      "text/plain": [
       "(10000, 90)"
      ]
     },
     "execution_count": 38,
     "metadata": {},
     "output_type": "execute_result"
    }
   ],
   "source": [
    "df_dummy.shape"
   ]
  },
  {
   "cell_type": "markdown",
   "metadata": {},
   "source": [
    "### Step 3: Model Training"
   ]
  },
  {
   "cell_type": "code",
   "execution_count": 40,
   "metadata": {},
   "outputs": [],
   "source": [
    "y = df_dummy['churn']\n",
    "X = df_dummy.drop('churn',axis = 1)\n",
    "Xtrain, Xtest, ytrain, ytest = train_test_split(X, y, test_size=0.2, random_state=42)"
   ]
  },
  {
   "cell_type": "markdown",
   "metadata": {},
   "source": [
    "#### Model 1: Random Forest Classifier"
   ]
  },
  {
   "cell_type": "code",
   "execution_count": 98,
   "metadata": {},
   "outputs": [
    {
     "data": {
      "text/plain": [
       "RandomForestClassifier(max_depth=50, n_estimators=200, random_state=42)"
      ]
     },
     "execution_count": 98,
     "metadata": {},
     "output_type": "execute_result"
    }
   ],
   "source": [
    "model1 = RandomForestClassifier(n_estimators = 200, max_depth = 50, random_state=42)\n",
    "model1.fit(Xtrain, ytrain)"
   ]
  },
  {
   "cell_type": "markdown",
   "metadata": {},
   "source": [
    "##### Top 10 Features by Feature Importance:"
   ]
  },
  {
   "cell_type": "code",
   "execution_count": 132,
   "metadata": {},
   "outputs": [
    {
     "data": {
      "text/plain": [
       "CPL_wrt_self                  0.141963\n",
       "CPL_wrt_BC                    0.131935\n",
       "duration                      0.129412\n",
       "avg_budget                    0.121802\n",
       "clicks                        0.100541\n",
       "calls                         0.064223\n",
       "num_products                  0.020412\n",
       "BC_Home & Home Improvement    0.014447\n",
       "client_state_CA               0.013094\n",
       "client_state_FL               0.009709\n",
       "dtype: float64"
      ]
     },
     "execution_count": 132,
     "metadata": {},
     "output_type": "execute_result"
    }
   ],
   "source": [
    "pd.Series(model1.feature_importances_, index = X.columns).sort_values(ascending=False)[0:10]"
   ]
  },
  {
   "cell_type": "markdown",
   "metadata": {},
   "source": [
    "#### Model 2: Gradient Boosted Trees"
   ]
  },
  {
   "cell_type": "code",
   "execution_count": 101,
   "metadata": {},
   "outputs": [
    {
     "data": {
      "text/plain": [
       "GradientBoostingClassifier(max_depth=50, n_estimators=200, random_state=42)"
      ]
     },
     "execution_count": 101,
     "metadata": {},
     "output_type": "execute_result"
    }
   ],
   "source": [
    "model2 = GradientBoostingClassifier(n_estimators = 200, max_depth = 50, random_state=42)\n",
    "model2.fit(Xtrain, ytrain)"
   ]
  },
  {
   "cell_type": "markdown",
   "metadata": {},
   "source": [
    "##### Top 10 Features by Feature Importance: "
   ]
  },
  {
   "cell_type": "code",
   "execution_count": 133,
   "metadata": {},
   "outputs": [
    {
     "data": {
      "text/plain": [
       "CPL_wrt_BC                    0.190763\n",
       "CPL_wrt_self                  0.144195\n",
       "duration                      0.121634\n",
       "avg_budget                    0.119779\n",
       "clicks                        0.103555\n",
       "calls                         0.051647\n",
       "num_products                  0.017325\n",
       "client_state_FL               0.010348\n",
       "BC_Home & Home Improvement    0.009048\n",
       "client_state_CA               0.008933\n",
       "dtype: float64"
      ]
     },
     "execution_count": 133,
     "metadata": {},
     "output_type": "execute_result"
    }
   ],
   "source": [
    "pd.Series(model2.feature_importances_, index = X.columns).sort_values(ascending=False)[0:10]"
   ]
  },
  {
   "cell_type": "markdown",
   "metadata": {},
   "source": [
    "##### Model 3 (not used): Logistic Regression Model"
   ]
  },
  {
   "cell_type": "code",
   "execution_count": 129,
   "metadata": {},
   "outputs": [
    {
     "data": {
      "text/plain": [
       "LogisticRegression(class_weight='balanced', solver='liblinear')"
      ]
     },
     "execution_count": 129,
     "metadata": {},
     "output_type": "execute_result"
    }
   ],
   "source": [
    "model3 = LogisticRegression(solver='liblinear', class_weight = 'balanced')\n",
    "model3.fit(Xtrain, ytrain)"
   ]
  },
  {
   "cell_type": "code",
   "execution_count": 130,
   "metadata": {},
   "outputs": [
    {
     "data": {
      "text/plain": [
       "array([[908, 685],\n",
       "       [176, 231]])"
      ]
     },
     "execution_count": 130,
     "metadata": {},
     "output_type": "execute_result"
    }
   ],
   "source": [
    "ypred3 = model3.predict(Xtest)\n",
    "confusion_matrix(ytest, ypred3)"
   ]
  },
  {
   "cell_type": "markdown",
   "metadata": {},
   "source": [
    "### Step 4: Model Evaluation\n",
    "\n",
    "For model evaluation of a binary classification problem, it is very useful to first look at the **confusion matrix**, from which we can calculate performance metrics like **F-score**, **overall accuracy score** and **AUC score**."
   ]
  },
  {
   "cell_type": "code",
   "execution_count": 191,
   "metadata": {},
   "outputs": [
    {
     "data": {
      "text/html": [
       "<div>\n",
       "<style scoped>\n",
       "    .dataframe tbody tr th:only-of-type {\n",
       "        vertical-align: middle;\n",
       "    }\n",
       "\n",
       "    .dataframe tbody tr th {\n",
       "        vertical-align: top;\n",
       "    }\n",
       "\n",
       "    .dataframe thead th {\n",
       "        text-align: right;\n",
       "    }\n",
       "</style>\n",
       "<table border=\"1\" class=\"dataframe\">\n",
       "  <thead>\n",
       "    <tr style=\"text-align: right;\">\n",
       "      <th></th>\n",
       "      <th>pred:no</th>\n",
       "      <th>pred:yes</th>\n",
       "    </tr>\n",
       "  </thead>\n",
       "  <tbody>\n",
       "    <tr>\n",
       "      <th>true:no</th>\n",
       "      <td>1569</td>\n",
       "      <td>24</td>\n",
       "    </tr>\n",
       "    <tr>\n",
       "      <th>true:yes</th>\n",
       "      <td>311</td>\n",
       "      <td>96</td>\n",
       "    </tr>\n",
       "  </tbody>\n",
       "</table>\n",
       "</div>"
      ],
      "text/plain": [
       "          pred:no  pred:yes\n",
       "true:no      1569        24\n",
       "true:yes      311        96"
      ]
     },
     "execution_count": 191,
     "metadata": {},
     "output_type": "execute_result"
    }
   ],
   "source": [
    "ypred1 = model1.predict(Xtest)\n",
    "pd.DataFrame(confusion_matrix(ytest, ypred1),\n",
    "    index=['true:no', 'true:yes'], \n",
    "    columns=['pred:no', 'pred:yes'])"
   ]
  },
  {
   "cell_type": "code",
   "execution_count": 186,
   "metadata": {},
   "outputs": [],
   "source": [
    "fscore1 = f1_score(ytest, ypred1)\n",
    "acc1 = accuracy_score(ytest, ypred1)\n",
    "auc1 = roc_auc_score(ytest, ypred1)"
   ]
  },
  {
   "cell_type": "code",
   "execution_count": 192,
   "metadata": {},
   "outputs": [
    {
     "data": {
      "text/html": [
       "<div>\n",
       "<style scoped>\n",
       "    .dataframe tbody tr th:only-of-type {\n",
       "        vertical-align: middle;\n",
       "    }\n",
       "\n",
       "    .dataframe tbody tr th {\n",
       "        vertical-align: top;\n",
       "    }\n",
       "\n",
       "    .dataframe thead th {\n",
       "        text-align: right;\n",
       "    }\n",
       "</style>\n",
       "<table border=\"1\" class=\"dataframe\">\n",
       "  <thead>\n",
       "    <tr style=\"text-align: right;\">\n",
       "      <th></th>\n",
       "      <th>pred:no</th>\n",
       "      <th>pred:yes</th>\n",
       "    </tr>\n",
       "  </thead>\n",
       "  <tbody>\n",
       "    <tr>\n",
       "      <th>true:no</th>\n",
       "      <td>1361</td>\n",
       "      <td>232</td>\n",
       "    </tr>\n",
       "    <tr>\n",
       "      <th>true:yes</th>\n",
       "      <td>257</td>\n",
       "      <td>150</td>\n",
       "    </tr>\n",
       "  </tbody>\n",
       "</table>\n",
       "</div>"
      ],
      "text/plain": [
       "          pred:no  pred:yes\n",
       "true:no      1361       232\n",
       "true:yes      257       150"
      ]
     },
     "execution_count": 192,
     "metadata": {},
     "output_type": "execute_result"
    }
   ],
   "source": [
    "ypred2 = model2.predict(Xtest)\n",
    "pd.DataFrame(confusion_matrix(ytest, ypred2),\n",
    "    index=['true:no', 'true:yes'], \n",
    "    columns=['pred:no', 'pred:yes'])"
   ]
  },
  {
   "cell_type": "code",
   "execution_count": 187,
   "metadata": {},
   "outputs": [],
   "source": [
    "fscore2 = f1_score(ytest, ypred2)\n",
    "acc2 = accuracy_score(ytest, ypred2)\n",
    "auc2 = roc_auc_score(ytest, ypred2)"
   ]
  },
  {
   "cell_type": "code",
   "execution_count": 188,
   "metadata": {},
   "outputs": [
    {
     "data": {
      "text/html": [
       "<div>\n",
       "<style scoped>\n",
       "    .dataframe tbody tr th:only-of-type {\n",
       "        vertical-align: middle;\n",
       "    }\n",
       "\n",
       "    .dataframe tbody tr th {\n",
       "        vertical-align: top;\n",
       "    }\n",
       "\n",
       "    .dataframe thead th {\n",
       "        text-align: right;\n",
       "    }\n",
       "</style>\n",
       "<table border=\"1\" class=\"dataframe\">\n",
       "  <thead>\n",
       "    <tr style=\"text-align: right;\">\n",
       "      <th></th>\n",
       "      <th>Random Forest</th>\n",
       "      <th>Gradient-Boosted</th>\n",
       "    </tr>\n",
       "  </thead>\n",
       "  <tbody>\n",
       "    <tr>\n",
       "      <th>F Score</th>\n",
       "      <td>0.364326</td>\n",
       "      <td>0.380228</td>\n",
       "    </tr>\n",
       "    <tr>\n",
       "      <th>Accuracy</th>\n",
       "      <td>0.832500</td>\n",
       "      <td>0.755500</td>\n",
       "    </tr>\n",
       "    <tr>\n",
       "      <th>AUC</th>\n",
       "      <td>0.610403</td>\n",
       "      <td>0.611457</td>\n",
       "    </tr>\n",
       "    <tr>\n",
       "      <th>False Postive Rate (FPR)</th>\n",
       "      <td>0.015066</td>\n",
       "      <td>0.145637</td>\n",
       "    </tr>\n",
       "    <tr>\n",
       "      <th>True Positive Rate (TPR)</th>\n",
       "      <td>0.235872</td>\n",
       "      <td>0.368550</td>\n",
       "    </tr>\n",
       "    <tr>\n",
       "      <th>True Negative Rate (TNR)</th>\n",
       "      <td>0.984934</td>\n",
       "      <td>0.854363</td>\n",
       "    </tr>\n",
       "  </tbody>\n",
       "</table>\n",
       "</div>"
      ],
      "text/plain": [
       "                          Random Forest  Gradient-Boosted\n",
       "F Score                        0.364326          0.380228\n",
       "Accuracy                       0.832500          0.755500\n",
       "AUC                            0.610403          0.611457\n",
       "False Postive Rate (FPR)       0.015066          0.145637\n",
       "True Positive Rate (TPR)       0.235872          0.368550\n",
       "True Negative Rate (TNR)       0.984934          0.854363"
      ]
     },
     "execution_count": 188,
     "metadata": {},
     "output_type": "execute_result"
    }
   ],
   "source": [
    "tn1, fp1, fn1, tp1 = confusion_matrix(ytest, ypred1).ravel()\n",
    "tn2, fp2, fn2, tp2 = confusion_matrix(ytest, ypred2).ravel()\n",
    "fpr1 = fp1 / (fp1+tn1)\n",
    "tpr1 = tp1 / (tp1 + fn1)\n",
    "fpr2 = fp2 / (fp2+tn2)\n",
    "tpr2 = tp2 / (tp2 + fn2)\n",
    "tnr1 = tn1 / (tn1 + fp1)\n",
    "tnr2 = tn2 / (tn2 + fp2)\n",
    "\n",
    "pd.DataFrame({'Random Forest' : [fscore1, acc1, auc1, fpr1, tpr1, tnr1], \n",
    "              'Gradient-Boosted' : [fscore2, acc2, auc2, fpr2, tpr2, tnr2]\n",
    "             },\n",
    "            index = ['F Score','Accuracy','AUC','False Postive Rate (FPR)', \n",
    "                     'True Positive Rate (TPR)', 'True Negative Rate (TNR)']\n",
    "            )"
   ]
  },
  {
   "cell_type": "markdown",
   "metadata": {},
   "source": [
    "**True Positive Rate:** The ability to correctly label churners. Arguably, this is the most important metric of our model, since it is crucial that we can identify churners before they churn. In this measure, the Gradient-Boosted model performs best.\n",
    "\n",
    "**False Positive Rate:** The tendency of the model to falsely label non-churners as churners. This metric should be minimized, or else we might spend extra resources on clients that were not at risk of churning. The XGB model seems to be more liberal with classifying churners, therefore FPR, just like TPR, is higher.\n",
    "\n",
    "**True Negative Rate:**  The ability to correctly label non-churners. The Random Forest model does a splendid job with this metric because it tends to classify most clients as non-churners (as it should, since churning is supposed to be a rare event).\n",
    "\n",
    "\n",
    "All of these metrics are important to manage, but in the end, the business context is what matters most. **I conclude that the Gradient-Boosted Model is the best model because it correctly churners at a high rate, while also maintaining reasonably high metrics in other areas like Accuracy, AUC, and F-score.**\n",
    "\n"
   ]
  },
  {
   "cell_type": "markdown",
   "metadata": {},
   "source": [
    "### Step 5: Segmentation Analysis\n",
    "\n",
    "We will illustrate an example of segmentation analysis using the `avg_budget` column. Basically, the model performance will be assessed on both 'small' and 'big' budget clients.\n",
    "I arbitrarily set the threshold for these two groups at $2000.\n"
   ]
  },
  {
   "cell_type": "code",
   "execution_count": 193,
   "metadata": {},
   "outputs": [],
   "source": [
    "ypred2_small_budget = ypred2[Xtest['avg_budget']<= 2000]\n",
    "ytest_small_budget = ytest[Xtest['avg_budget']<= 2000]\n",
    "\n",
    "ypred2_big_budget = ypred2[Xtest['avg_budget']> 2000]\n",
    "ytest_big_budget = ytest[Xtest['avg_budget']> 2000]\n",
    "\n",
    "matrix_sb = pd.DataFrame(\n",
    "    confusion_matrix(ytest_small_budget, ypred2_small_budget), \n",
    "    index=['true:no', 'true:yes'], \n",
    "    columns=['pred:no', 'pred:yes']\n",
    ")\n",
    "\n",
    "matrix_bb = pd.DataFrame(\n",
    "    confusion_matrix(ytest_big_budget, ypred2_big_budget), \n",
    "    index=['true:no', 'true:yes'], \n",
    "    columns=['pred:no', 'pred:yes']\n",
    ")"
   ]
  },
  {
   "cell_type": "code",
   "execution_count": 194,
   "metadata": {},
   "outputs": [
    {
     "data": {
      "text/html": [
       "<div>\n",
       "<style scoped>\n",
       "    .dataframe tbody tr th:only-of-type {\n",
       "        vertical-align: middle;\n",
       "    }\n",
       "\n",
       "    .dataframe tbody tr th {\n",
       "        vertical-align: top;\n",
       "    }\n",
       "\n",
       "    .dataframe thead th {\n",
       "        text-align: right;\n",
       "    }\n",
       "</style>\n",
       "<table border=\"1\" class=\"dataframe\">\n",
       "  <thead>\n",
       "    <tr style=\"text-align: right;\">\n",
       "      <th></th>\n",
       "      <th>pred:no</th>\n",
       "      <th>pred:yes</th>\n",
       "    </tr>\n",
       "  </thead>\n",
       "  <tbody>\n",
       "    <tr>\n",
       "      <th>true:no</th>\n",
       "      <td>1062</td>\n",
       "      <td>192</td>\n",
       "    </tr>\n",
       "    <tr>\n",
       "      <th>true:yes</th>\n",
       "      <td>220</td>\n",
       "      <td>137</td>\n",
       "    </tr>\n",
       "  </tbody>\n",
       "</table>\n",
       "</div>"
      ],
      "text/plain": [
       "          pred:no  pred:yes\n",
       "true:no      1062       192\n",
       "true:yes      220       137"
      ]
     },
     "execution_count": 194,
     "metadata": {},
     "output_type": "execute_result"
    }
   ],
   "source": [
    "matrix_sb"
   ]
  },
  {
   "cell_type": "code",
   "execution_count": 195,
   "metadata": {},
   "outputs": [
    {
     "name": "stdout",
     "output_type": "stream",
     "text": [
      "0.15311004784688995\n",
      "0.38375350140056025\n"
     ]
    }
   ],
   "source": [
    "tn, fp, fn, tp = matrix_sb.iloc[0,0], matrix_sb.iloc[0,1], matrix_sb.iloc[1,0], matrix_sb.iloc[1,1]\n",
    "fpr = fp / (fp+tn)\n",
    "print(fpr)\n",
    "tpr = tp / (tp + fn)\n",
    "print(tpr)"
   ]
  },
  {
   "cell_type": "code",
   "execution_count": 196,
   "metadata": {},
   "outputs": [
    {
     "data": {
      "text/html": [
       "<div>\n",
       "<style scoped>\n",
       "    .dataframe tbody tr th:only-of-type {\n",
       "        vertical-align: middle;\n",
       "    }\n",
       "\n",
       "    .dataframe tbody tr th {\n",
       "        vertical-align: top;\n",
       "    }\n",
       "\n",
       "    .dataframe thead th {\n",
       "        text-align: right;\n",
       "    }\n",
       "</style>\n",
       "<table border=\"1\" class=\"dataframe\">\n",
       "  <thead>\n",
       "    <tr style=\"text-align: right;\">\n",
       "      <th></th>\n",
       "      <th>pred:no</th>\n",
       "      <th>pred:yes</th>\n",
       "    </tr>\n",
       "  </thead>\n",
       "  <tbody>\n",
       "    <tr>\n",
       "      <th>true:no</th>\n",
       "      <td>299</td>\n",
       "      <td>40</td>\n",
       "    </tr>\n",
       "    <tr>\n",
       "      <th>true:yes</th>\n",
       "      <td>37</td>\n",
       "      <td>13</td>\n",
       "    </tr>\n",
       "  </tbody>\n",
       "</table>\n",
       "</div>"
      ],
      "text/plain": [
       "          pred:no  pred:yes\n",
       "true:no       299        40\n",
       "true:yes       37        13"
      ]
     },
     "execution_count": 196,
     "metadata": {},
     "output_type": "execute_result"
    }
   ],
   "source": [
    "matrix_bb"
   ]
  },
  {
   "cell_type": "code",
   "execution_count": 197,
   "metadata": {},
   "outputs": [
    {
     "name": "stdout",
     "output_type": "stream",
     "text": [
      "0.11799410029498525\n",
      "0.26\n"
     ]
    }
   ],
   "source": [
    "tn, fp, fn, tp = matrix_bb.iloc[0,0], matrix_bb.iloc[0,1], matrix_bb.iloc[1,0], matrix_bb.iloc[1,1]\n",
    "fpr = fp / (fp+tn)\n",
    "print(fpr)\n",
    "tpr = tp / (tp + fn)\n",
    "print(tpr)"
   ]
  },
  {
   "cell_type": "markdown",
   "metadata": {},
   "source": [
    "The results of this analysis show that our model performs significantly better on clients with smaller marketing budgets. I draw this conclusion based on the **true positive rate** metric. The sample size is lacking for the 'large' budget segment, so a more balanced dataset may yield better predictions."
   ]
  },
  {
   "cell_type": "markdown",
   "metadata": {},
   "source": [
    "We can repeat this analysis on various other columns of our data for further insights. My ideas for segmentation are discussed earlier in the Exploratory Analysis section of this document."
   ]
  },
  {
   "cell_type": "markdown",
   "metadata": {},
   "source": [
    "-----\n",
    "\n",
    "## Business Impact\n",
    "\n",
    "The end goal of this prediction model is to allow the business to focus marketing and retention efforts on the clients that are most likely to churn. Below, we illustrate the dollar amount in revenue we would save with early detection of clients that ended up churning:"
   ]
  },
  {
   "cell_type": "code",
   "execution_count": 198,
   "metadata": {},
   "outputs": [
    {
     "data": {
      "text/plain": [
       "132090.77539451193"
      ]
     },
     "execution_count": 198,
     "metadata": {},
     "output_type": "execute_result"
    }
   ],
   "source": [
    "# amount of revenue saved by correct predictions:\n",
    "sum(Xtest['avg_budget'][(ypred2 == ytest) & (ytest == 1)])"
   ]
  },
  {
   "cell_type": "code",
   "execution_count": 199,
   "metadata": {},
   "outputs": [
    {
     "data": {
      "text/plain": [
       "1512.601132172423"
      ]
     },
     "execution_count": 199,
     "metadata": {},
     "output_type": "execute_result"
    }
   ],
   "source": [
    "# average of avg_budget for entire dataset:\n",
    "np.mean(X['avg_budget'])"
   ]
  },
  {
   "cell_type": "code",
   "execution_count": 162,
   "metadata": {},
   "outputs": [
    {
     "data": {
      "text/plain": [
       "0    1593\n",
       "1     407\n",
       "Name: churn, dtype: int64"
      ]
     },
     "execution_count": 162,
     "metadata": {},
     "output_type": "execute_result"
    }
   ],
   "source": [
    "# still about a 20% churn rate in our test sample:\n",
    "ytest.value_counts()"
   ]
  },
  {
   "cell_type": "markdown",
   "metadata": {},
   "source": [
    "The total comes out to be nearly **$132,000** on our test sample of only 2,000 accounts (~400 churn). \n",
    "\n",
    "Now suppose we have a fresh dataset with 10,000 more clients. Also assume a similar 20 percent churn rate and ~\\\\$1,500 average marketing budget per account. This model detects about 37 percent of churners, which comes out to: (\\\\$1,500 * 2,000 * 0.37) = **over \\\\$1,000,000 saved!**"
   ]
  }
 ],
 "metadata": {
  "kernelspec": {
   "display_name": "Python 3",
   "language": "python",
   "name": "python3"
  },
  "language_info": {
   "codemirror_mode": {
    "name": "ipython",
    "version": 3
   },
   "file_extension": ".py",
   "mimetype": "text/x-python",
   "name": "python",
   "nbconvert_exporter": "python",
   "pygments_lexer": "ipython3",
   "version": "3.8.5"
  }
 },
 "nbformat": 4,
 "nbformat_minor": 4
}
